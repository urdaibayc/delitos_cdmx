{
 "cells": [
  {
   "cell_type": "code",
   "execution_count": 1,
   "metadata": {},
   "outputs": [],
   "source": [
    "%config Completer.use_jedi = False\n",
    "import pandas as pd\n",
    "import numpy as np\n",
    "from datetime import datetime"
   ]
  },
  {
   "cell_type": "code",
   "execution_count": 2,
   "metadata": {},
   "outputs": [
    {
     "name": "stderr",
     "output_type": "stream",
     "text": [
      "/usr/local/lib/python3.8/dist-packages/IPython/core/interactiveshell.py:3145: DtypeWarning: Columns (15) have mixed types.Specify dtype option on import or set low_memory=False.\n",
      "  has_raised = await self.run_ast_nodes(code_ast.body, cell_name,\n"
     ]
    }
   ],
   "source": [
    "###################################\n",
    "# loading crime data\n",
    "###################################\n",
    "carpetas = pd.read_csv('./carpetas_investigacion/carpetas_completa_abril_2021.csv')\n"
   ]
  },
  {
   "cell_type": "code",
   "execution_count": 3,
   "metadata": {},
   "outputs": [],
   "source": [
    "# carpetas.shape\n",
    "# carpetas.dtypes\n",
    "# carpetas.isna().sum()\n",
    "\n",
    "# carpetas.ao_hechos.fillna(value=0, method=None, axis=None, inplace=True, limit=None, downcast=None)\n",
    "# carpetas['ao_hechos'] = carpetas.ao_hechos.apply(int)\n",
    "# carpetas.mes_hechos.fillna(value='missing', method=None, axis=None, inplace=True, limit=None, downcast=None)\n",
    "# carpetas.fecha_hechos.fillna(value='missing', method=None, axis=None, inplace=True, limit=None, downcast=None)\n",
    "# carpetas.fecha_inicio.fillna(value=0, method=None, axis=None, inplace=True, limit=None, downcast=None)\n",
    "\n",
    "carpetas_latlong=carpetas.drop(carpetas.loc[carpetas.latitud.isna()].index)\n",
    "# carpetas_latlong.drop(columns=['tempo'], inplace=True)\n",
    "\n",
    "# carpetas_latlong.fillna('missing', inplace=True)\n",
    "# carpetas_latlong.isna().sum()\n"
   ]
  },
  {
   "cell_type": "code",
   "execution_count": 4,
   "metadata": {},
   "outputs": [],
   "source": [
    "columns = ['fecha_hechos',\n",
    "           'fecha_inicio',\n",
    "           'delito',\n",
    "           'categoria_delito',\n",
    "           'longitud',\n",
    "           'latitud',]"
   ]
  },
  {
   "cell_type": "code",
   "execution_count": 5,
   "metadata": {},
   "outputs": [],
   "source": [
    "delitos = carpetas_latlong[columns].copy()"
   ]
  },
  {
   "cell_type": "code",
   "execution_count": 6,
   "metadata": {},
   "outputs": [],
   "source": [
    "delitos['fecha_hechos'] = np.where(delitos['fecha_hechos']==np.nan, delitos['fecha_inicio'], delitos['fecha_hechos'])"
   ]
  },
  {
   "cell_type": "code",
   "execution_count": 7,
   "metadata": {},
   "outputs": [],
   "source": [
    "delitos['fecha_hechos']=pd.to_datetime(delitos.fecha_hechos).dt.date"
   ]
  },
  {
   "cell_type": "code",
   "execution_count": 8,
   "metadata": {},
   "outputs": [],
   "source": [
    "delitos['fecha_inicio']=pd.to_datetime(delitos.fecha_inicio).dt.date"
   ]
  },
  {
   "cell_type": "code",
   "execution_count": 9,
   "metadata": {},
   "outputs": [],
   "source": [
    "inicio = datetime.strptime('2000-01-01', '%Y-%m-%d').date()"
   ]
  },
  {
   "cell_type": "code",
   "execution_count": 10,
   "metadata": {},
   "outputs": [],
   "source": [
    "delitos_milenio = delitos[delitos.fecha_hechos>=inicio].copy()"
   ]
  },
  {
   "cell_type": "code",
   "execution_count": 11,
   "metadata": {},
   "outputs": [],
   "source": [
    "delitos_milenio.to_pickle('./delitos.pkl')"
   ]
  },
  {
   "cell_type": "code",
   "execution_count": null,
   "metadata": {},
   "outputs": [],
   "source": []
  }
 ],
 "metadata": {
  "kernelspec": {
   "display_name": "Python 3",
   "language": "python",
   "name": "python3"
  },
  "language_info": {
   "codemirror_mode": {
    "name": "ipython",
    "version": 3
   },
   "file_extension": ".py",
   "mimetype": "text/x-python",
   "name": "python",
   "nbconvert_exporter": "python",
   "pygments_lexer": "ipython3",
   "version": "3.8.5"
  }
 },
 "nbformat": 4,
 "nbformat_minor": 4
}
